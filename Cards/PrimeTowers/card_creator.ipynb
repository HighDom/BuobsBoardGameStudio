{
 "cells": [
  {
   "cell_type": "code",
   "execution_count": 6,
   "metadata": {},
   "outputs": [],
   "source": [
    "import pandas as pd\n",
    "from PIL import Image, ImageDraw, ImageFont\n",
    "import os\n",
    "\n",
    "def create_card(front_text, back_text, front_color, back_color, card_name, output_dir):\n",
    "    card_size = (400, 600)  # Width x Height\n",
    "\n",
    "    # Create front of card\n",
    "    front_img = Image.new(\"RGB\", card_size, front_color)\n",
    "    draw_front = ImageDraw.Draw(front_img)\n",
    "\n",
    "    # Center front text\n",
    "    font = ImageFont.load_default()\n",
    "    w, h = draw_front.textsize(front_text, font=font)\n",
    "    draw_front.text(((card_size[0] - w) / 2, (card_size[1] - h) / 2), front_text, fill=\"black\", font=font)\n",
    "\n",
    "    # Save front image\n",
    "    front_img.save(os.path.join(output_dir, f\"{card_name}_front.jpg\"))\n",
    "\n",
    "    # Create back of card\n",
    "    back_img = Image.new(\"RGB\", card_size, back_color)\n",
    "    draw_back = ImageDraw.Draw(back_img)\n",
    "\n",
    "    # Center back text\n",
    "    w, h = draw_back.textsize(back_text, font=font)\n",
    "    draw_back.text(((card_size[0] - w) / 2, (card_size[1] - h) / 2), back_text, fill=\"black\", font=font)\n",
    "\n",
    "    # Save back image\n",
    "    back_img.save(os.path.join(output_dir, f\"{card_name}_back.jpg\"))\n",
    "\n",
    "def main():\n",
    "    # Load CSV\n",
    "    csv_path = \"cards.csv\"  # Path to your CSV file\n",
    "    output_dir = \"cards_output\"\n",
    "    os.makedirs(output_dir, exist_ok=True)\n",
    "\n",
    "    df = pd.read_csv(csv_path)\n",
    "\n",
    "    # Loop through each row and create card images\n",
    "    for idx, row in df.iterrows():\n",
    "        front_text = row['Effect']\n",
    "        back_text = row['Cards']\n",
    "        front_color = row['Front Color']\n",
    "        back_color = row['Back Color']\n",
    "        card_name = f\"card_{idx}\"\n",
    "\n",
    "        create_card(front_text, back_text, front_color, back_color, card_name, output_dir)\n",
    "\n",
    "if __name__ == \"main\":\n",
    "    main()"
   ]
  },
  {
   "cell_type": "code",
   "execution_count": null,
   "metadata": {},
   "outputs": [],
   "source": []
  }
 ],
 "metadata": {
  "kernelspec": {
   "display_name": "myenv",
   "language": "python",
   "name": "python3"
  },
  "language_info": {
   "codemirror_mode": {
    "name": "ipython",
    "version": 3
   },
   "file_extension": ".py",
   "mimetype": "text/x-python",
   "name": "python",
   "nbconvert_exporter": "python",
   "pygments_lexer": "ipython3",
   "version": "3.13.0"
  }
 },
 "nbformat": 4,
 "nbformat_minor": 2
}
